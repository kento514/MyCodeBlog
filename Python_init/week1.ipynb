{
 "cells": [
  {
   "attachments": {},
   "cell_type": "markdown",
   "metadata": {},
   "source": [
    "# Pythonに慣れよう"
   ]
  },
  {
   "cell_type": "markdown",
   "metadata": {},
   "source": [
    "## 変数と出力(基礎)\n",
    "### 変数\n",
    "変数の定義は以下のように行います。  \n",
    "`a=1`  \n",
    "`b='Hello world'`  \n",
    "pythonの場合は基本的に変数の型を述べる必要はないです。  \n",
    "\n",
    "### 出力\n",
    "出力にはprint文を使います。  \n",
    "`print('Hello world')`\n",
    "\n",
    "### 演算\n",
    "よく使う四則演算などをまとめます。  \n",
    "`a+b #足し算`    \n",
    "`a-b #引き算`  \n",
    "`a*b #掛け算`  \n",
    "`a/b #割り算`  \n",
    "`a**b #乗算`    \n",
    "`a%b #余り`  \n",
    "`a//b #商`\n",
    "\n",
    "### 型\n",
    "変数の型は以下のようなものがあります。  \n",
    "int型（整数）`a=1`  \n",
    "float型（小数）`a=1.1`  \n",
    "文字列型`a='hello'`  \n",
    "bool型`a=True(False)`  \n",
    "list型（整数）`a=[1, 2, 3]`  \n",
    "ちなみに変数の型は`print(type(a))`で確認できます"
   ]
  },
  {
   "cell_type": "markdown",
   "metadata": {},
   "source": [
    "問題１　\"hello world!\"を出力させよう"
   ]
  },
  {
   "cell_type": "code",
   "execution_count": null,
   "metadata": {},
   "outputs": [],
   "source": []
  },
  {
   "cell_type": "markdown",
   "metadata": {},
   "source": [
    "問題２　a=3,b=10として足し算、引き算、掛け算、割り算の結果をint型とfloat型で出力してください"
   ]
  },
  {
   "cell_type": "code",
   "execution_count": null,
   "metadata": {},
   "outputs": [],
   "source": []
  },
  {
   "attachments": {},
   "cell_type": "markdown",
   "metadata": {},
   "source": [
    "問題３　3,'taro',Trueを変数に代入して、型を確認してください"
   ]
  },
  {
   "cell_type": "code",
   "execution_count": null,
   "metadata": {},
   "outputs": [],
   "source": []
  },
  {
   "cell_type": "markdown",
   "metadata": {},
   "source": [
    "## 変数と出力(応用)\n",
    "変数に入れる値が長くなるときの対処法。  \n",
    "`a = 1 + 1 + 1 + 1 + 1 + 1 + 1 + 1 + 1 \\`  \n",
    "`+ 1 + 1 + 1 + 1`  \n",
    "`a = 'hello' + world`  "
   ]
  },
  {
   "cell_type": "markdown",
   "metadata": {},
   "source": [
    "## list系の変数の基本\n",
    "### list型\n",
    "`li = [1,2,3]`のように定義する配列のこと。値の追加や削除ができる。  \n",
    "以下、例題として基本的なメソッドを紹介します。"
   ]
  },
  {
   "cell_type": "code",
   "execution_count": null,
   "metadata": {},
   "outputs": [],
   "source": [
    "li = [1, 2, 3] #listを定義\n",
    "print(li)\n",
    "print(li[0]) #liの一番前の要素を出力。indexは0から始まるので注意\n",
    "print(li[-1]) #liの一番最後の要素の出力\n",
    "li.append(5) #liの最後の要素に５を追加\n",
    "print(li)\n",
    "li.pop() #liの最後の要素を削除\n",
    "print(li)"
   ]
  },
  {
   "cell_type": "markdown",
   "metadata": {},
   "source": [
    "他にも`li.insert(), li.remove(), li.extend()`などあるので調べてみてください。  \n",
    "問題４　リスト`li = [1, 'one', 2]`に3と'two'を追加して出力してください。その後、'one'をリストから削除して出力してください。"
   ]
  },
  {
   "cell_type": "code",
   "execution_count": null,
   "metadata": {},
   "outputs": [],
   "source": []
  },
  {
   "cell_type": "markdown",
   "metadata": {},
   "source": [
    "### set型\n",
    "`x = {1,2,3}`と定義する。配列の中に同じ値が重複しないのが特徴。\n",
    "\n",
    "### tuple型\n",
    "`x = (1, 'one', 2)`と定義する。後から値の追加や変更が難しいのが特徴。\n",
    "\n",
    "### 辞書型\n",
    "`x = {'one':1, 'two':2}`と定義する。keyとvalueから構成されるのが特徴"
   ]
  },
  {
   "cell_type": "markdown",
   "metadata": {},
   "source": [
    "## 制御構文\n",
    "### if文\n",
    "if文は条件分岐に使う。条件分岐は以下のbool値判定で行う。  \n",
    "`==` 等しいかの判定。等しければTrue。  \n",
    "`===` 型も含めて等しかの判定。等しければTrue。  \n",
    "`<` 大小関係の判定。文字列でも辞書順かどうかに使える。(他にも`>`,`<=`,`>=`がある)  \n",
    "`!=` 等しくないかの判定。等しくなければTrue。  \n",
    "他にも論理積`and`や論理和`or`がある。  \n",
    "例題"
   ]
  },
  {
   "cell_type": "code",
   "execution_count": null,
   "metadata": {},
   "outputs": [],
   "source": [
    "a = 70\n",
    "if a>=90:\n",
    "    print('Great')\n",
    "elif a>=70:\n",
    "    print('Good')\n",
    "else:\n",
    "    print('Bad')"
   ]
  },
  {
   "cell_type": "markdown",
   "metadata": {},
   "source": [
    "### for文\n",
    "終わりがわかっているループ。  \n",
    "例題 １～１０の和を求める書き方。"
   ]
  },
  {
   "cell_type": "code",
   "execution_count": null,
   "metadata": {},
   "outputs": [],
   "source": [
    "ans = 0\n",
    "for i in range(1,11):\n",
    "    ans += i\n",
    "print(ans)"
   ]
  },
  {
   "cell_type": "markdown",
   "metadata": {},
   "source": [
    "### while文\n",
    "終わりがわかっていないループ。　　\n",
    "例題 カウントダウン"
   ]
  },
  {
   "cell_type": "code",
   "execution_count": null,
   "metadata": {},
   "outputs": [],
   "source": [
    "i = 10\n",
    "while i>0:\n",
    "    print(i)\n",
    "    i -= 1"
   ]
  },
  {
   "cell_type": "markdown",
   "metadata": {},
   "source": [
    "問題５　FizzBuzz。１～２０の数字について、３の倍数の時はFizz、５の倍数の時はBuzz、１５の倍数の時はFizzBuzz、それ以外は数字がそのまま出力されるようなプログラムを書いてください。"
   ]
  },
  {
   "cell_type": "code",
   "execution_count": null,
   "metadata": {},
   "outputs": [],
   "source": []
  },
  {
   "cell_type": "markdown",
   "metadata": {},
   "source": [
    "## 関数\n",
    "ここでは、正方形の面積を求める関数を例に二つの方法で書きます。  \n",
    "例　正方形の面積を求めるプログラム。"
   ]
  },
  {
   "cell_type": "code",
   "execution_count": null,
   "metadata": {},
   "outputs": [],
   "source": [
    "L = 10 #正方形の一辺の長さ。\n",
    "#パターン１\n",
    "def f1(x):\n",
    "    return x**2\n",
    "#パターン２\n",
    "f2 = lambda x: x**2\n",
    "print(f'パターン１:{f1(L)}')\n",
    "print(f'パターン２：{f2(L)}')"
   ]
  },
  {
   "cell_type": "markdown",
   "metadata": {},
   "source": [
    "問題６　関数を使ってフィボナッチ数列数列$$a_{n+2}=a_{n+1}+a_n$$の第10項を求めてください。ただし、$a_1=1,a_2=1$"
   ]
  },
  {
   "cell_type": "markdown",
   "metadata": {},
   "source": []
  }
 ],
 "metadata": {
  "interpreter": {
   "hash": "3fbfde03661a652ae7345a7a8d1d9784b6c5d2d9ed8bb36dcd42a3f7475a3813"
  },
  "kernelspec": {
   "display_name": "Python 3.9.7 ('base')",
   "language": "python",
   "name": "python3"
  },
  "language_info": {
   "codemirror_mode": {
    "name": "ipython",
    "version": 3
   },
   "file_extension": ".py",
   "mimetype": "text/x-python",
   "name": "python",
   "nbconvert_exporter": "python",
   "pygments_lexer": "ipython3",
   "version": "3.9.7"
  },
  "orig_nbformat": 4
 },
 "nbformat": 4,
 "nbformat_minor": 2
}
